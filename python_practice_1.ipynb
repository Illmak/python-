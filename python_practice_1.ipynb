{
  "cells": [
    {
      "cell_type": "markdown",
      "metadata": {
        "colab_type": "text",
        "id": "view-in-github"
      },
      "source": [
        "<a href=\"https://colab.research.google.com/github/vavaqwe/Python_Practice/blob/main/python_practice_1.ipynb\" target=\"_parent\"><img src=\"https://colab.research.google.com/assets/colab-badge.svg\" alt=\"Open In Colab\"/></a>"
      ]
    },
    {
      "cell_type": "markdown",
      "metadata": {
        "id": "p9wwt0LZzNvn"
      },
      "source": [
        "# I. Змінні та памʼять."
      ]
    },
    {
      "cell_type": "markdown",
      "metadata": {
        "id": "HTJrrm95xSV9"
      },
      "source": [
        "1. Створити змінні, що посилаються на два цілих числа, що однакові за значенням, де значення належить проміжку від -5 до 256. Чи будуть ці змінні рівні тільки за значенням або ж ще будуть посилатися на один і той самий обʼєкт в памʼяті? Наведіть код та дайте текстову відповідь нижче."
      ]
    },
    {
      "cell_type": "code",
      "execution_count": 1,
      "metadata": {
        "colab": {
          "base_uri": "https://localhost:8080/"
        },
        "id": "FHSFpb1bwTFG",
        "outputId": "67eee63f-f47e-4a5e-c3fd-7955c9079af8"
      },
      "outputs": [
        {
          "name": "stdout",
          "output_type": "stream",
          "text": [
            "140718070040944\n",
            "140718070048368\n"
          ]
        }
      ],
      "source": [
        "a = 23\n",
        "b = 255\n",
        "print(id(a))\n",
        "print(id(b))\n",
        "# в діапазоні від -5 до 256 пайтон сам виділяє пам'ять під ці значення"
      ]
    },
    {
      "cell_type": "markdown",
      "metadata": {
        "id": "N-soIzlV0Awv"
      },
      "source": [
        "2. Створити змінні, що посилаються на одне і те саме булеве значення. Чи будуть ці змінні рівні тільки за значенням або ж ще будуть посилатися на один і той самий обʼєкт в памʼяті? Наведіть код та дайте текстову відповідь нижче."
      ]
    },
    {
      "cell_type": "code",
      "execution_count": 4,
      "metadata": {
        "colab": {
          "base_uri": "https://localhost:8080/"
        },
        "id": "qK1-VBih0Lgz",
        "outputId": "d9a41014-5a75-4754-b184-b4ec5f5a999d"
      },
      "outputs": [
        {
          "name": "stdout",
          "output_type": "stream",
          "text": [
            "99789979706400\n",
            "99789979706400\n"
          ]
        }
      ],
      "source": [
        "a = True\n",
        "b = True\n",
        "print(id(a))\n",
        "print(id(b))"
      ]
    },
    {
      "cell_type": "markdown",
      "metadata": {
        "id": "nD2SJcgaya4d"
      },
      "source": [
        "в діапазоні від -5 до 256 та для булевих значень пайтон сам виділяє пам'ять під ці тому вони всі знаходяться в однакових комірках"
      ]
    },
    {
      "cell_type": "markdown",
      "metadata": {
        "id": "ISORzt6M3vAt"
      },
      "source": [
        "3. За допомогою якої функції можна перевірити належність змінної до вказаного типу даних (напр. чи змінна посилається на значення булевого типу)?"
      ]
    },
    {
      "cell_type": "code",
      "execution_count": null,
      "metadata": {
        "id": "N7HHGm4H4CW7"
      },
      "outputs": [],
      "source": [
        "isinstance('ad', str)"
      ]
    },
    {
      "cell_type": "markdown",
      "metadata": {
        "id": "tRxugKAxwYLw"
      },
      "source": [
        "# II. Цілі числа та числа з рухомою комою"
      ]
    },
    {
      "cell_type": "markdown",
      "metadata": {
        "id": "NLHkgd5Gybc8"
      },
      "source": [
        "4. Створити дві змінні, що посилаються на будь-які два цілих числа та продемонструвати такі арифметичні операції: додавання, віднімання, ділення, множення, ділення без залишку, ділення по модулю, приведення до ступеню. Всі результати операцій вивести на екран."
      ]
    },
    {
      "cell_type": "code",
      "execution_count": 9,
      "metadata": {
        "colab": {
          "base_uri": "https://localhost:8080/"
        },
        "id": "Ck6JaN4Qysoc",
        "outputId": "815371e4-5c55-4e02-a1ad-2f2e7a58de0c"
      },
      "outputs": [
        {
          "name": "stdout",
          "output_type": "stream",
          "text": [
            "14\n",
            "0.4\n",
            "-6\n",
            "40\n",
            "0\n",
            "4\n",
            "1048576\n"
          ]
        }
      ],
      "source": [
        "a = 4\n",
        "b = 10\n",
        "print(a + b)\n",
        "print(a / b)\n",
        "print(a - b)\n",
        "print(a * b)\n",
        "print(a & b)\n",
        "print(a % b)\n",
        "print(a ** b)"
      ]
    },
    {
      "cell_type": "markdown",
      "metadata": {
        "id": "tOT1crlty3cE"
      },
      "source": [
        "5. Створити дві змінні, що посилаються на будь-які два числа з рухомою комою та продемонструвати такі арифметичні операції: додавання, віднімання, ділення, множення, ділення без залишку, ділення по модулю, приведення до ступеню. Всі результати операцій вивести на екран."
      ]
    },
    {
      "cell_type": "code",
      "execution_count": 22,
      "metadata": {
        "colab": {
          "base_uri": "https://localhost:8080/"
        },
        "id": "m88_XOI9y-HI",
        "outputId": "a3ca8a02-b52a-48eb-c5fa-326bba4e395b"
      },
      "outputs": [
        {
          "name": "stdout",
          "output_type": "stream",
          "text": [
            "8.1\n",
            "0.42105263157894735\n",
            "-3.3000000000000003\n",
            "13.68\n",
            "2.4\n",
            "146.96166977052837\n"
          ]
        }
      ],
      "source": [
        "a = 2.4\n",
        "b = 5.7\n",
        "print(a + b)\n",
        "print(a / b)\n",
        "print(a - b)\n",
        "print(a * b)\n",
        "print(a % b)\n",
        "print(a ** b)"
      ]
    },
    {
      "cell_type": "markdown",
      "metadata": {
        "id": "74jIsang0Yfe"
      },
      "source": [
        "6. Спробуйте проробити всі ті самі арифметичні операції над двома змінними, що посилаються на різні булеві значення. Прокоментуйте, чому, на Вашу думку, Ви отримали саме такі результати."
      ]
    },
    {
      "cell_type": "code",
      "execution_count": 23,
      "metadata": {
        "colab": {
          "base_uri": "https://localhost:8080/"
        },
        "id": "Py3JN4gU0eTq",
        "outputId": "aae9c738-1858-4048-f30a-fce068171bba"
      },
      "outputs": [
        {
          "name": "stdout",
          "output_type": "stream",
          "text": [
            "1\n",
            "0.0\n",
            "1\n",
            "0\n",
            "0\n",
            "1\n"
          ]
        }
      ],
      "source": [
        "f = True\n",
        "g = False\n",
        "print(f + g)\n",
        "print(g / f)\n",
        "print(f - g)\n",
        "print(f * g)\n",
        "print(g % f)\n",
        "print(f ** g)"
      ]
    },
    {
      "cell_type": "markdown",
      "metadata": {
        "id": "-pY4SCvo0wMG"
      },
      "source": [
        "*бо булеві значення це 1, 0*"
      ]
    },
    {
      "cell_type": "markdown",
      "metadata": {
        "id": "1kBClKgPzZnC"
      },
      "source": [
        "7. Використовуючи змінні з вправи 3, продемонструйте механізм явного перетворення типів, де числа з рухомою комою перетворюються на цілі числа."
      ]
    },
    {
      "cell_type": "code",
      "execution_count": 24,
      "metadata": {
        "colab": {
          "base_uri": "https://localhost:8080/"
        },
        "id": "akcVeUWYzlpb",
        "outputId": "f5022a1f-b08f-488d-b9a8-bd12f9cb115a"
      },
      "outputs": [
        {
          "name": "stdout",
          "output_type": "stream",
          "text": [
            "2\n",
            "5\n"
          ]
        }
      ],
      "source": [
        "print(int(a))\n",
        "print(int(b))"
      ]
    },
    {
      "cell_type": "markdown",
      "metadata": {
        "id": "GYVqN9uP1D4n"
      },
      "source": [
        "# III. Робота зі списками."
      ]
    },
    {
      "cell_type": "markdown",
      "metadata": {
        "id": "7-DeDunw2sO-"
      },
      "source": [
        "8. Створити список двома різними за синтаксисом способами. За допомогою вбудованої функції обчисліть довжину одного з них."
      ]
    },
    {
      "cell_type": "code",
      "execution_count": 27,
      "metadata": {
        "colab": {
          "base_uri": "https://localhost:8080/"
        },
        "id": "jY07arjK21hH",
        "outputId": "85c7a3f0-914b-43f5-951c-28597b0964b1"
      },
      "outputs": [
        {
          "name": "stdout",
          "output_type": "stream",
          "text": [
            "5\n",
            "10\n"
          ]
        }
      ],
      "source": [
        "my_list1 = [1, 2, 3, 4, 5]\n",
        "print(len(my_list1))\n",
        "my_list2 = list(range(10))\n",
        "print(len(my_list2))"
      ]
    },
    {
      "cell_type": "markdown",
      "metadata": {
        "id": "8vmGUTjL22gI"
      },
      "source": [
        "9. Створіть два списка та за допомогою спеціального методу додайте другий з них в якості останнього елемента першого."
      ]
    },
    {
      "cell_type": "code",
      "execution_count": 31,
      "metadata": {
        "colab": {
          "base_uri": "https://localhost:8080/"
        },
        "id": "DSP6lO_m4cdV",
        "outputId": "31cdedfd-efe0-40eb-ff9a-8dd09247662e"
      },
      "outputs": [
        {
          "name": "stdout",
          "output_type": "stream",
          "text": [
            "[1, 2, 3, 4, 5, [0, 1, 2, 3, 4, 5, 6, 7, 8, 9]]\n"
          ]
        }
      ],
      "source": [
        "my_list1 = [1, 2, 3, 4, 5]\n",
        "my_list2 = list(range(10))\n",
        "my_list1.append(my_list2)\n",
        "print(my_list1)"
      ]
    },
    {
      "cell_type": "markdown",
      "metadata": {
        "id": "6ke6ng2j4dtq"
      },
      "source": [
        "10. Створіть два списка та за допомогою спеціального методу \"розширте\" перший (додайте всі елементи другого в кінець першого списку). Напишіть, чим відрізняються методи в завданні 9 та 10."
      ]
    },
    {
      "cell_type": "code",
      "execution_count": 32,
      "metadata": {
        "colab": {
          "base_uri": "https://localhost:8080/"
        },
        "id": "DVJVvu494q8d",
        "outputId": "de400f4a-cde1-4130-891d-e132b7497743"
      },
      "outputs": [
        {
          "name": "stdout",
          "output_type": "stream",
          "text": [
            "[1, 2, 3, 4, 5, 0, 1, 2, 3, 4, 5, 6, 7, 8, 9]\n"
          ]
        }
      ],
      "source": [
        "my_list1 = [1, 2, 3, 4, 5]\n",
        "my_list2 = list(range(10))\n",
        "my_list1.extend(my_list2)\n",
        "print(my_list1)"
      ]
    },
    {
      "cell_type": "markdown",
      "metadata": {
        "id": "LvEs8TGo6CaT"
      },
      "source": [
        "))))))))))))))))\n"
      ]
    },
    {
      "cell_type": "markdown",
      "metadata": {
        "id": "iu_NyJeR4vOu"
      },
      "source": [
        "11. Створіть список та відсортуйте його так, щоб:\n",
        "а) його id залишився незмінним після сортування.\n",
        "б) результат сортування був збережений у нову змінну. Підказка: для одного пункту використовуйте вбудовану функцію стортування, а в іншому - спеціальний метод для роботи зі списками."
      ]
    },
    {
      "cell_type": "code",
      "execution_count": 34,
      "metadata": {
        "colab": {
          "base_uri": "https://localhost:8080/"
        },
        "id": "LWdiIkDj5Nxo",
        "outputId": "ad01102a-00fb-4d46-b8b5-d5a6d3a808f7"
      },
      "outputs": [
        {
          "name": "stdout",
          "output_type": "stream",
          "text": [
            "136693287615424\n",
            "136693287615424\n"
          ]
        }
      ],
      "source": [
        "# a\n",
        "my_list1 = [1, 2, 3, 4, 5, 2, 8, 9, 31, 53, 5]\n",
        "print(id(my_list1))\n",
        "my_list1.sort()\n",
        "print(id(my_list1))"
      ]
    },
    {
      "cell_type": "code",
      "execution_count": 36,
      "metadata": {
        "colab": {
          "base_uri": "https://localhost:8080/"
        },
        "id": "JHl9vlFa5bHt",
        "outputId": "1d0fac01-cb1c-4185-9910-90f5b973d225"
      },
      "outputs": [
        {
          "name": "stdout",
          "output_type": "stream",
          "text": [
            "136693288208192\n",
            "136693286998848\n"
          ]
        }
      ],
      "source": [
        "# b\n",
        "my_list1 = [1, 2, 3, 4, 5, 2, 8, 9, 31, 53, 5]\n",
        "print(id(my_list1))\n",
        "sorted_list = sorted(my_list1)\n",
        "print(id(sorted_list))"
      ]
    },
    {
      "cell_type": "markdown",
      "metadata": {
        "id": "1l80guua5bia"
      },
      "source": [
        "12. Створіть список з елементами різного типу, де деякі значення елементів повторюються. За допомогою спеціального методу порахуйте кількість значень одного з елементів на Ваш вибір. Результат виведіть на екран."
      ]
    },
    {
      "cell_type": "code",
      "execution_count": 37,
      "metadata": {
        "colab": {
          "base_uri": "https://localhost:8080/"
        },
        "id": "tWFdczmv5z5Q",
        "outputId": "d3a6be4c-346d-4bc3-8c0b-29f6d8fecd3e"
      },
      "outputs": [
        {
          "name": "stdout",
          "output_type": "stream",
          "text": [
            "5\n"
          ]
        }
      ],
      "source": [
        "my_list = [1, '54223', 546, 'rara']\n",
        "print(len(my_list[1]))"
      ]
    },
    {
      "cell_type": "markdown",
      "metadata": {
        "id": "pCjR1dJb1Qbi"
      },
      "source": [
        "# IV. Робота з кортежами."
      ]
    },
    {
      "cell_type": "markdown",
      "metadata": {
        "id": "te3MAUYq28TV"
      },
      "source": [
        "13. Створити список з один типом елементів та на основі цього списку створити кортеж."
      ]
    },
    {
      "cell_type": "code",
      "execution_count": 38,
      "metadata": {
        "colab": {
          "base_uri": "https://localhost:8080/"
        },
        "id": "uq3O114R2_H1",
        "outputId": "d666c343-e4e9-4e56-cad9-1748ca10d31b"
      },
      "outputs": [
        {
          "name": "stdout",
          "output_type": "stream",
          "text": [
            "{1, 2, 3, 4, 5}\n"
          ]
        }
      ],
      "source": [
        "my_list = [1, 2, 3, 4, 5]\n",
        "my_set = set(my_list)\n",
        "print(my_set)"
      ]
    },
    {
      "cell_type": "markdown",
      "metadata": {
        "id": "fAZCxAX06R_k"
      },
      "source": [
        "14. Створити кортеж з один елементом."
      ]
    },
    {
      "cell_type": "code",
      "execution_count": 40,
      "metadata": {
        "colab": {
          "base_uri": "https://localhost:8080/"
        },
        "id": "-QWjudqk6kHd",
        "outputId": "4474c91d-fd7f-4769-cc9d-4368090686af"
      },
      "outputs": [
        {
          "name": "stdout",
          "output_type": "stream",
          "text": [
            "{1}\n"
          ]
        }
      ],
      "source": [
        "my_set = {1}\n",
        "print(my_set)"
      ]
    },
    {
      "cell_type": "markdown",
      "metadata": {
        "id": "VfTSJwQF7djZ"
      },
      "source": [
        "15. Створити кортеж. Вивести на екран всі доступні його атрибути та методи."
      ]
    },
    {
      "cell_type": "code",
      "execution_count": 42,
      "metadata": {
        "colab": {
          "base_uri": "https://localhost:8080/"
        },
        "id": "x9elcFfr774r",
        "outputId": "5f08689e-6494-487c-8103-4ec20ec51b30"
      },
      "outputs": [
        {
          "data": {
            "text/plain": [
              "['__and__',\n",
              " '__class__',\n",
              " '__class_getitem__',\n",
              " '__contains__',\n",
              " '__delattr__',\n",
              " '__dir__',\n",
              " '__doc__',\n",
              " '__eq__',\n",
              " '__format__',\n",
              " '__ge__',\n",
              " '__getattribute__',\n",
              " '__gt__',\n",
              " '__hash__',\n",
              " '__iand__',\n",
              " '__init__',\n",
              " '__init_subclass__',\n",
              " '__ior__',\n",
              " '__isub__',\n",
              " '__iter__',\n",
              " '__ixor__',\n",
              " '__le__',\n",
              " '__len__',\n",
              " '__lt__',\n",
              " '__ne__',\n",
              " '__new__',\n",
              " '__or__',\n",
              " '__rand__',\n",
              " '__reduce__',\n",
              " '__reduce_ex__',\n",
              " '__repr__',\n",
              " '__ror__',\n",
              " '__rsub__',\n",
              " '__rxor__',\n",
              " '__setattr__',\n",
              " '__sizeof__',\n",
              " '__str__',\n",
              " '__sub__',\n",
              " '__subclasshook__',\n",
              " '__xor__',\n",
              " 'add',\n",
              " 'clear',\n",
              " 'copy',\n",
              " 'difference',\n",
              " 'difference_update',\n",
              " 'discard',\n",
              " 'intersection',\n",
              " 'intersection_update',\n",
              " 'isdisjoint',\n",
              " 'issubset',\n",
              " 'issuperset',\n",
              " 'pop',\n",
              " 'remove',\n",
              " 'symmetric_difference',\n",
              " 'symmetric_difference_update',\n",
              " 'union',\n",
              " 'update']"
            ]
          },
          "execution_count": 42,
          "metadata": {},
          "output_type": "execute_result"
        }
      ],
      "source": [
        "my_set = {1}\n",
        "dir(my_set)"
      ]
    },
    {
      "cell_type": "markdown",
      "metadata": {
        "id": "8LCtYcmI6w1M"
      },
      "source": [
        "16. Порівняйте список та кортеж. Назвіть схожості та відмінності, випадки використання."
      ]
    },
    {
      "cell_type": "markdown",
      "metadata": {
        "id": "t9MwoWor7UVB"
      },
      "source": [
        "**місце для відповіді*"
      ]
    },
    {
      "cell_type": "markdown",
      "metadata": {
        "id": "QTP622J81iHk"
      },
      "source": [
        "# V. Індексування та слайсинг."
      ]
    },
    {
      "cell_type": "markdown",
      "metadata": {
        "id": "4dmeIU-N9gHy"
      },
      "source": [
        "17. Створіть список з 6ти елементів. Отримайте третій елемент за допомогою двох різних індексів."
      ]
    },
    {
      "cell_type": "code",
      "execution_count": 43,
      "metadata": {
        "colab": {
          "base_uri": "https://localhost:8080/"
        },
        "id": "47LTFhfH9pRe",
        "outputId": "78fcfef8-8980-42f1-b5f2-6ad1539accb2"
      },
      "outputs": [
        {
          "name": "stdout",
          "output_type": "stream",
          "text": [
            "30 30\n"
          ]
        }
      ],
      "source": [
        "my_list = [10, 20, 30, 40, 50, 60]\n",
        "print(my_list[2], my_list[-4])"
      ]
    },
    {
      "cell_type": "markdown",
      "metadata": {
        "id": "JC3BkD-67_--"
      },
      "source": [
        "18. Створіть список, де елементами цього списку також є списки. Отримай перший елемент з останнього рядка та виведи значення на екран."
      ]
    },
    {
      "cell_type": "code",
      "execution_count": 44,
      "metadata": {
        "colab": {
          "base_uri": "https://localhost:8080/"
        },
        "id": "ctR2jdq68cB0",
        "outputId": "f36b8d55-629d-4fed-9231-44c02144bf6c"
      },
      "outputs": [
        {
          "data": {
            "text/plain": [
              "50"
            ]
          },
          "execution_count": 44,
          "metadata": {},
          "output_type": "execute_result"
        }
      ],
      "source": [
        "my_list = [[10, 20], [30, 40],[50, 60]]\n",
        "my_list[-1][0]"
      ]
    },
    {
      "cell_type": "markdown",
      "metadata": {
        "id": "A-hPrvOS8cjx"
      },
      "source": [
        "19. Створіть кортеж, що містить 8  елементів цілочисленного типу. Виведіть на екран три найменших значення."
      ]
    },
    {
      "cell_type": "code",
      "execution_count": 47,
      "metadata": {
        "colab": {
          "base_uri": "https://localhost:8080/"
        },
        "id": "GPxJKNUm8xHU",
        "outputId": "d3bbdc2f-2cd9-4011-c611-b7f127c5f3a4"
      },
      "outputs": [
        {
          "name": "stdout",
          "output_type": "stream",
          "text": [
            "(10, 20, 30)\n"
          ]
        }
      ],
      "source": [
        "my_list = (10, 20, 30, 40, 50, 60, 70, 80)\n",
        "print(my_list[:3])"
      ]
    },
    {
      "cell_type": "markdown",
      "metadata": {
        "id": "JA47PKTv8zFK"
      },
      "source": [
        "20. Створіть список з десяти елементів різного типу. Отримайте всі елементи, окрім двох перших та двох останніх та збережіть їх в новій змінній."
      ]
    },
    {
      "cell_type": "code",
      "execution_count": 48,
      "metadata": {
        "colab": {
          "base_uri": "https://localhost:8080/"
        },
        "id": "g-GAQS_kAlmr",
        "outputId": "cb5859e1-3502-4316-d28d-c9268230f401"
      },
      "outputs": [
        {
          "name": "stdout",
          "output_type": "stream",
          "text": [
            "[3.14, [4, 5], 755, True, (7, 8), None]\n"
          ]
        }
      ],
      "source": [
        "my_list = [1, 'hello', 3.14, [4, 5], 755, True, (7, 8), None, 'world', 10]\n",
        "new_list = my_list[2:-2]\n",
        "print(new_list)"
      ]
    },
    {
      "cell_type": "markdown",
      "metadata": {
        "id": "m0xrwFijAmDD"
      },
      "source": [
        "21. Створіть кортеж з 11ти елементів чисел з рухомою комою та отримайте кожен парний за індексом елемент в зворотньому порядку. Наприклад, маючи (1.2, 2.3, 3.3, 4.3, 5.3, 6.3, 7.3, 8.3, 9.3, 0.3), отримати (0.3, 8.3, 6.3, 4.3, 2.3). Результат збережіть в нову змінну та виведіть на екран."
      ]
    },
    {
      "cell_type": "code",
      "execution_count": 53,
      "metadata": {
        "colab": {
          "base_uri": "https://localhost:8080/"
        },
        "id": "BQwYLEXdBVBo",
        "outputId": "1029283b-d547-4ccb-ee57-47108255a04e"
      },
      "outputs": [
        {
          "name": "stdout",
          "output_type": "stream",
          "text": [
            "(9.3, 7.3, 5.3, 3.3, 1.2)\n"
          ]
        }
      ],
      "source": [
        "my_turp = (1.2, 2.3, 3.3, 4.3, 5.3, 6.3, 7.3, 8.3, 9.3, 0.3)\n",
        "new_turp = my_turp[-2::-2]\n",
        "print(new_turp)"
      ]
    },
    {
      "cell_type": "markdown",
      "metadata": {
        "id": "F0ArvieRBZsG"
      },
      "source": [
        "# Вітаю! Ви велика(ий) молодець, що впоралась(вся). Похваліть себе та побалуйте чимось приємним. Я Вами пишаюся."
      ]
    }
  ],
  "metadata": {
    "colab": {
      "include_colab_link": true,
      "provenance": []
    },
    "kernelspec": {
      "display_name": "Python 3",
      "name": "python3"
    },
    "language_info": {
      "codemirror_mode": {
        "name": "ipython",
        "version": 3
      },
      "file_extension": ".py",
      "mimetype": "text/x-python",
      "name": "python",
      "nbconvert_exporter": "python",
      "pygments_lexer": "ipython3",
      "version": "3.8.7"
    }
  },
  "nbformat": 4,
  "nbformat_minor": 0
}

{
  "cells": [
    {
      "cell_type": "markdown",
      "metadata": {
        "colab_type": "text",
        "id": "view-in-github"
      },
      "source": [
        "<a href=\"https://colab.research.google.com/github/vavaqwe/Python_Practice/blob/main/Python_Practice2.ipynb\" target=\"_parent\"><img src=\"https://colab.research.google.com/assets/colab-badge.svg\" alt=\"Open In Colab\"/></a>"
      ]
    },
    {
      "cell_type": "markdown",
      "metadata": {
        "id": "EVJ7AflwxrZi"
      },
      "source": [
        "# I. Рядки (String)."
      ]
    },
    {
      "cell_type": "markdown",
      "metadata": {
        "id": "_s5ECzz9zE61"
      },
      "source": [
        "1. Створити пустий рядок двома різними способами."
      ]
    },
    {
      "cell_type": "code",
      "execution_count": null,
      "metadata": {
        "id": "HsDOUUMWxo6D"
      },
      "outputs": [],
      "source": [
        "variable_one = ''\n",
        "variable_two = str()"
      ]
    },
    {
      "cell_type": "markdown",
      "metadata": {
        "id": "4Bdn9J3MzLf_"
      },
      "source": [
        "2. Створити рядок з апострофом."
      ]
    },
    {
      "cell_type": "code",
      "execution_count": null,
      "metadata": {
        "id": "OjyFU0iKzPc2"
      },
      "outputs": [],
      "source": [
        "ball = \"м'ята\""
      ]
    },
    {
      "cell_type": "markdown",
      "metadata": {
        "id": "qj7LjXFazbx1"
      },
      "source": [
        "3. Створити рядок з символом переходу на новий рядок та роздрукувати його в консоль."
      ]
    },
    {
      "cell_type": "code",
      "execution_count": null,
      "metadata": {
        "colab": {
          "base_uri": "https://localhost:8080/"
        },
        "id": "K9J-tLXczmyo",
        "outputId": "68a3e0b9-fcd0-4e91-c8cd-ef3990d0511b"
      },
      "outputs": [
        {
          "name": "stdout",
          "output_type": "stream",
          "text": [
            "М'ята — рід рослин родини глухокропивових. \n",
            " Усі види (згідно з Plants of the World Online 24 види[1]) дуже запашні, більшість з них містить багато ментолу.\n"
          ]
        }
      ],
      "source": [
        "line = \"М'ята — рід рослин родини глухокропивових. \\n Усі види (згідно з Plants of the World Online 24 види[1]) дуже запашні, більшість з них містить багато ментолу.\"\n",
        "print(line)"
      ]
    },
    {
      "cell_type": "markdown",
      "metadata": {
        "id": "XEYGh-BGzzfD"
      },
      "source": [
        "4. Зробити рядок з завдання №3 \"сирим\"(raw), вивести в консоль та порівняти з результатом в попередному завданні."
      ]
    },
    {
      "cell_type": "code",
      "execution_count": null,
      "metadata": {
        "colab": {
          "base_uri": "https://localhost:8080/"
        },
        "id": "0Mb7qYqgzntd",
        "outputId": "778dc3ee-03ef-4575-da76-b82818924bc9"
      },
      "outputs": [
        {
          "name": "stdout",
          "output_type": "stream",
          "text": [
            "М'ята — рід рослин родини глухокропивових. \\n Усі види (згідно з Plants of the World Online 24 види[1]) дуже запашні, більшість з них містить багато ментолу.\n"
          ]
        }
      ],
      "source": [
        "line_raw = r\"М'ята — рід рослин родини глухокропивових. \\n Усі види (згідно з Plants of the World Online 24 види[1]) дуже запашні, більшість з них містить багато ментолу.\"\n",
        "print(line_raw)"
      ]
    },
    {
      "cell_type": "markdown",
      "metadata": {
        "id": "xLM76Cnfz3T_"
      },
      "source": [
        "сирий рядок не прочитав символ переходу"
      ]
    },
    {
      "cell_type": "markdown",
      "metadata": {
        "id": "bg_d8wM4z8dS"
      },
      "source": [
        "5. Створити змінну, що буде посилатися на Ваше прізвище латинкою. Створити форматований рядок, який буде мати вигляд \"My surname is ______\", де на місці нижніх підкреслень буде Ваше прізвище зі змінної."
      ]
    },
    {
      "cell_type": "code",
      "execution_count": null,
      "metadata": {
        "id": "Cr847KKpz7zF"
      },
      "outputs": [],
      "source": [
        "my_name = 'Rusyn'\n",
        "print(f'My surname is {my_name}')"
      ]
    },
    {
      "cell_type": "markdown",
      "metadata": {
        "id": "1Nc6RqvQ0hxU"
      },
      "source": [
        "6. Маючи рядок \"My dog is crazy.\" перетворити його на список [\"my\", \"dog\", \"is\", \"crazy\"]"
      ]
    },
    {
      "cell_type": "code",
      "execution_count": 1,
      "metadata": {
        "colab": {
          "base_uri": "https://localhost:8080/"
        },
        "id": "dGU4MImR063l",
        "outputId": "e8e65f00-a3d2-4d21-83ba-8da1ef638161"
      },
      "outputs": [
        {
          "name": "stdout",
          "output_type": "stream",
          "text": [
            "['my', 'cat', 'is', 'crazy.']\n"
          ]
        }
      ],
      "source": [
        "crazy_cat = 'My cat is crazy.'\n",
        "cat_list = crazy_cat.lower().split(' ')\n",
        "print(cat_list)"
      ]
    },
    {
      "cell_type": "markdown",
      "metadata": {
        "id": "rW_I9dt3x6cW"
      },
      "source": [
        "# II. Множини (Set)."
      ]
    },
    {
      "cell_type": "markdown",
      "metadata": {
        "id": "zNjRLHLw1Bgg"
      },
      "source": [
        "7. Створити множину без елементів. Після цого за допомогою методу додайте кілька різних елементів до множини. Чи множини є змінним типом даних?"
      ]
    },
    {
      "cell_type": "code",
      "execution_count": null,
      "metadata": {
        "colab": {
          "base_uri": "https://localhost:8080/"
        },
        "id": "CB72VZWZ1A7c",
        "outputId": "3bc16e9a-8330-4538-d90c-e1a5ff70e361"
      },
      "outputs": [
        {
          "data": {
            "text/plain": [
              "{1, 2, 3}"
            ]
          },
          "execution_count": 12,
          "metadata": {},
          "output_type": "execute_result"
        }
      ],
      "source": [
        "set_var = set()\n",
        "set_var.add(1)\n",
        "set_var.add(2)\n",
        "set_var.add(3)\n",
        "set_var"
      ]
    },
    {
      "cell_type": "markdown",
      "metadata": {
        "id": "tqxtcfgK4Wkx"
      },
      "source": [
        "так, бо після створення можна додавати нові змінні\n"
      ]
    },
    {
      "cell_type": "markdown",
      "metadata": {
        "id": "gHpT0Zw_1HEF"
      },
      "source": [
        "8. Створити множину, маючи список my_list = [1, 1, 2, 67, 67, 8, 9]. Пояснити, чому \"зникли\" деякі елементи."
      ]
    },
    {
      "cell_type": "code",
      "execution_count": null,
      "metadata": {
        "colab": {
          "base_uri": "https://localhost:8080/"
        },
        "id": "U5YnFsPp1OCU",
        "outputId": "766be96d-50d8-4358-f59d-be1909e7e23e"
      },
      "outputs": [
        {
          "data": {
            "text/plain": [
              "{1, 2, 8, 9, 67}"
            ]
          },
          "execution_count": 13,
          "metadata": {},
          "output_type": "execute_result"
        }
      ],
      "source": [
        "my_list = [1, 1, 2, 67, 67, 8, 9]\n",
        "my_set = set(my_list)\n",
        "my_set"
      ]
    },
    {
      "cell_type": "markdown",
      "metadata": {
        "id": "SRMkGizS1UwY"
      },
      "source": [
        "9. Створіть дві множини. Продемонстуйте над ними операції: обʼєднання, різниці, пересічі та симетричної різниці. Використовуйте методи, що не змінюють множини, а створюють нові."
      ]
    },
    {
      "cell_type": "code",
      "execution_count": null,
      "metadata": {
        "colab": {
          "base_uri": "https://localhost:8080/"
        },
        "id": "pj5ta1CS2LAa",
        "outputId": "7a596ec9-ec37-49aa-ee4d-b39f1e12334f"
      },
      "outputs": [
        {
          "name": "stdout",
          "output_type": "stream",
          "text": [
            "{1, 2, 3, 4, 5, 8, 9, 15}\n",
            "{3, 15}\n",
            "{8, 1, 2, 9}\n",
            "{3, 4, 5, 15}\n"
          ]
        }
      ],
      "source": [
        "my_set_one = {1, 2, 8, 9, 3, 15}\n",
        "my_set_two = {1, 2, 8, 9, 5, 4}\n",
        "\n",
        "print(my_set_one.union(my_set_two))\n",
        "print(my_set_one.difference(my_set_two))\n",
        "print(my_set_one.intersection(my_set_two))\n",
        "print(my_set_one.symmetric_difference(my_set_two))"
      ]
    },
    {
      "cell_type": "markdown",
      "metadata": {
        "id": "ECo4rGAW2e4S"
      },
      "source": [
        "10. Створіть множину з пʼяти елементів. За допомогою спеціального методу, вилучіть три елементи один за одним з множини. Чи може гарантуватися порядок елементів у множинах?"
      ]
    },
    {
      "cell_type": "code",
      "execution_count": null,
      "metadata": {
        "colab": {
          "base_uri": "https://localhost:8080/"
        },
        "id": "tCoJigA-4Ryd",
        "outputId": "5b2dac79-d9a6-45f9-d016-927ad2916666"
      },
      "outputs": [
        {
          "name": "stdout",
          "output_type": "stream",
          "text": [
            "{1, 5, 7, 8, 9}\n",
            "{5, 7, 8, 9}\n",
            "{5, 8, 9}\n"
          ]
        }
      ],
      "source": [
        "my_set = {1,5,7,8,9}\n",
        "print(my_set)\n",
        "my_set.remove(1)\n",
        "print(my_set)\n",
        "my_set.remove(7)\n",
        "print(my_set)\n",
        "my_set.remove(5)\n"
      ]
    },
    {
      "cell_type": "markdown",
      "metadata": {
        "id": "t7f5oKmP2qum"
      },
      "source": [
        "порядок не змінюєтся"
      ]
    },
    {
      "cell_type": "markdown",
      "metadata": {
        "id": "kWc8gkzTx7Ea"
      },
      "source": [
        "# III. Словники (Dictionary)."
      ]
    },
    {
      "cell_type": "markdown",
      "metadata": {
        "id": "FHIRdwck2uji"
      },
      "source": [
        "11. Створіть пустий словник двома способами."
      ]
    },
    {
      "cell_type": "code",
      "execution_count": null,
      "metadata": {
        "id": "sF2WCzwJ2yDq"
      },
      "outputs": [],
      "source": [
        "first_dict = dict()\n",
        "second_dict = {\n",
        "    1:'a',\n",
        "    2:'b'\n",
        "}\n"
      ]
    },
    {
      "cell_type": "markdown",
      "metadata": {
        "id": "i5FLwj-B2ybQ"
      },
      "source": [
        "12. До одного зі словників вище додайте чотири пари елементів такі, щоб їхні ключі були різних типів."
      ]
    },
    {
      "cell_type": "code",
      "execution_count": null,
      "metadata": {
        "colab": {
          "base_uri": "https://localhost:8080/"
        },
        "id": "lqunD0EZ2_Vg",
        "outputId": "3147151a-b186-4d5c-8261-c3047459ffe7"
      },
      "outputs": [
        {
          "name": "stdout",
          "output_type": "stream",
          "text": [
            "{1: 'a', 2: 'b', 'h': True, 'va': [1, 1, 1], (5, 6): 1, '0': (5, 1)}\n"
          ]
        }
      ],
      "source": [
        "second_dict.update({'h':True,'va':[1,1,1],(5,6):1,'0':(5,1)})\n",
        "print(second_dict)"
      ]
    },
    {
      "cell_type": "markdown",
      "metadata": {
        "id": "XOD2Aaj13Bqx"
      },
      "source": [
        "ключем не можуть бути бо список є змінним об'єктом,а значенням так"
      ]
    },
    {
      "cell_type": "markdown",
      "metadata": {
        "id": "9Tjhmuf73KE6"
      },
      "source": [
        "13. Використовуючи той самий словник, отримайте по ключу будь-яке значення з наявних. Тепер видаліть цю пару ключ-значення. Спробуйте знову отримати значення по цьому ж ключу. Використовуючи спеціальний метод, виправте помилку."
      ]
    },
    {
      "cell_type": "code",
      "execution_count": null,
      "metadata": {
        "colab": {
          "base_uri": "https://localhost:8080/"
        },
        "id": "cNMenuGQ3JMa",
        "outputId": "7c1dfe7e-9324-4308-f824-1c396985d882"
      },
      "outputs": [
        {
          "name": "stdout",
          "output_type": "stream",
          "text": [
            "{1: 'a', 2: 'b', 'h': True, 'va': [1, 1, 1], (5, 6): 1, '0': (5, 1)}\n",
            "Incorrect\n"
          ]
        }
      ],
      "source": [
        "print(second_dict)\n",
        "del second_dict[1]\n",
        "print(second_dict.get(1, 'Incorrect'))"
      ]
    },
    {
      "cell_type": "markdown",
      "metadata": {
        "id": "SLtQabwUx7Xc"
      },
      "source": [
        "# IV. Оператори порівняння та логічні оператори. Умови."
      ]
    },
    {
      "cell_type": "markdown",
      "metadata": {
        "id": "SrehzC-n3-ln"
      },
      "source": [
        "14. Створіть цілочисленну змінну зі своїм щасливим або улюбленим числом. Напишіть код, який би автоматизовував наступну задачу.\n",
        "\n",
        "Якщо число парне, помножте його на 2 та виведіть результат на екран.\n",
        "\n",
        "Але якщо число непарне, помножте його на 3 та додайте 1 і виведіть на екран.\n"
      ]
    },
    {
      "cell_type": "code",
      "execution_count": null,
      "metadata": {
        "colab": {
          "base_uri": "https://localhost:8080/"
        },
        "id": "g0cchKGl3-Gq",
        "outputId": "76f10fba-1b82-4995-f5c5-554fc69e40b3"
      },
      "outputs": [
        {
          "name": "stdout",
          "output_type": "stream",
          "text": [
            "16\n"
          ]
        }
      ],
      "source": [
        "like_number = 5\n",
        "if like_number % 2 == 0 :\n",
        "    like_number *= 2\n",
        "    print(like_number)\n",
        "else:\n",
        "    like_number = (like_number * 3) + 1\n",
        "    print(like_number)"
      ]
    },
    {
      "cell_type": "markdown",
      "metadata": {
        "id": "PRXLVdU26E5Z"
      },
      "source": [
        "15. Створіть рядок зі своїм імʼям латинкою. Напишіть код, який би автоматизовував наступну задачу.\n",
        "\n",
        "Якщо в імені є літера \"а\"\n",
        " або \"i\", Виведіть на екран повідомлення \"A or I is in the name\".\n",
        "\n",
        "\n",
        "\n",
        "Якщо в імені є літери \"o\" та \"n\", Виведіть на екран повідомлення \"O and N is in the name\".\n",
        "\n",
        "Також якщо в імені немає літери \"о\", але є \"n\", Виведіть на екран повідомлення \"Only N is in the name\".\n",
        "\n",
        "В решті випадків виведіть на екран повідомлення \"There is no N in the name, but there might be O\".\n",
        "\n",
        "Зверніть увагу, що, наприклад, для імені \"Antonina\" буде виведено два повідомлення."
      ]
    },
    {
      "cell_type": "code",
      "execution_count": null,
      "metadata": {
        "colab": {
          "base_uri": "https://localhost:8080/"
        },
        "id": "bQlf4ZUh6Pdz",
        "outputId": "4356bada-0d90-4f28-e360-19921b6664ff"
      },
      "outputs": [
        {
          "name": "stdout",
          "output_type": "stream",
          "text": [
            "O and N is in the name\n"
          ]
        }
      ],
      "source": [
        "my_name = \"Illa\"\n",
        "flag = True\n",
        "if flag :\n",
        "    if 'a' in my_name.lower() or 'i' in my_name.lower():\n",
        "        print('A or I is in the name')\n",
        "\n",
        "    if 'o' in my_name.lower() and 'n' in my_name.lower():\n",
        "        print('O and N is in the name')\n",
        "\n",
        "    if 'o' not in my_name.lower() and 'n' in my_name.lower():\n",
        "        print('Only N is in the name')\n",
        "else:\n",
        "    print('There is no N in the name, but there might be O')"
      ]
    },
    {
      "cell_type": "markdown",
      "metadata": {
        "id": "xOZP0hkx6cCr"
      },
      "source": [
        "# Вітаю! Ви велика(ий) молодець, що впоралась(вся). Похваліть себе та побалуйте чимось приємним. Я Вами пишаюся."
      ]
    }
  ],
  "metadata": {
    "colab": {
      "include_colab_link": true,
      "provenance": []
    },
    "kernelspec": {
      "display_name": "Python 3",
      "name": "python3"
    },
    "language_info": {
      "codemirror_mode": {
        "name": "ipython",
        "version": 3
      },
      "file_extension": ".py",
      "mimetype": "text/x-python",
      "name": "python",
      "nbconvert_exporter": "python",
      "pygments_lexer": "ipython3",
      "version": "3.8.7"
    }
  },
  "nbformat": 4,
  "nbformat_minor": 0
}

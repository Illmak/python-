{
  "cells": [
    {
      "cell_type": "markdown",
      "metadata": {
        "colab_type": "text",
        "id": "view-in-github"
      },
      "source": [
        "<a href=\"https://colab.research.google.com/github/vavaqwe/Python_Practice/blob/main/python_practice_4.ipynb\" target=\"_parent\"><img src=\"https://colab.research.google.com/assets/colab-badge.svg\" alt=\"Open In Colab\"/></a>"
      ]
    },
    {
      "cell_type": "markdown",
      "metadata": {
        "id": "-xM96SkgLNxS"
      },
      "source": [
        "# I. Functions. Arguments."
      ]
    },
    {
      "cell_type": "markdown",
      "metadata": {
        "id": "RFkkDC1jikAI"
      },
      "source": [
        "0. (5б) Назвіть 4 частини, з яких складається визначення функції."
      ]
    },
    {
      "cell_type": "code",
      "execution_count": null,
      "metadata": {
        "id": "tV4xxWnFisqZ"
      },
      "outputs": [],
      "source": [
        "def nazva(argumenti):\n",
        "    tilo\n",
        "    return rezultat"
      ]
    },
    {
      "cell_type": "markdown",
      "metadata": {
        "id": "mg6qjOB2LbVs"
      },
      "source": [
        "1. (4б) Визначте функцію, що приймає 2 аргументи та повертає результат ділення 1го аргумента на інший."
      ]
    },
    {
      "cell_type": "code",
      "execution_count": null,
      "metadata": {
        "colab": {
          "base_uri": "https://localhost:8080/"
        },
        "id": "lUbA_FWjKxQD",
        "outputId": "0e3f423b-73d9-4989-902a-469a2afcaee7"
      },
      "outputs": [
        {
          "data": {
            "text/plain": [
              "2.0"
            ]
          },
          "execution_count": 73,
          "metadata": {},
          "output_type": "execute_result"
        }
      ],
      "source": [
        "def division_fun(first_arg, second_arg):\n",
        "    return first_arg / second_arg\n",
        "division_fun(4,2)"
      ]
    },
    {
      "cell_type": "markdown",
      "metadata": {
        "id": "wMAYj2KXLpiJ"
      },
      "source": [
        "2. (2б) Викличте вище визначену функцію, де другий аргумент дорівнює 0."
      ]
    },
    {
      "cell_type": "code",
      "execution_count": null,
      "metadata": {
        "id": "103jJj32Lo4Y"
      },
      "outputs": [],
      "source": [
        "division_fun(5,0)\n",
        "#помилка бо ділення на 0 не можливе щоб її виправити потрібно додати умову в тіло функції або try: except"
      ]
    },
    {
      "cell_type": "markdown",
      "metadata": {
        "id": "eT-pwEwPMD3T"
      },
      "source": [
        "3. (6б) Перевизначте функцію так, щоби у випадку ділення на 0 функція повертала None, а в решті випадків - результат розрахунків."
      ]
    },
    {
      "cell_type": "code",
      "execution_count": null,
      "metadata": {
        "colab": {
          "base_uri": "https://localhost:8080/"
        },
        "id": "1h6Jz7CKMTk_",
        "outputId": "b6797eb8-913e-496c-f16a-9f024dfe4380"
      },
      "outputs": [
        {
          "name": "stdout",
          "output_type": "stream",
          "text": [
            "None\n"
          ]
        }
      ],
      "source": [
        "def division_fun(first_arg, second_arg):\n",
        "    if second_arg == 0:\n",
        "      return None\n",
        "    return first_arg / second_arg\n",
        "print(division_fun(5,0))"
      ]
    },
    {
      "cell_type": "markdown",
      "metadata": {
        "id": "iuTiofyDMVMG"
      },
      "source": [
        "4. (5б) Напишіть документацію (docstring) у форматі Google до функції, що має обчислювати суму двох чисел."
      ]
    },
    {
      "cell_type": "code",
      "execution_count": null,
      "metadata": {
        "colab": {
          "base_uri": "https://localhost:8080/",
          "height": 36
        },
        "id": "a9E6iU_iNyYQ",
        "outputId": "01ab9851-a501-4ef5-a294-5e943465860f"
      },
      "outputs": [
        {
          "data": {
            "application/vnd.google.colaboratory.intrinsic+json": {
              "type": "string"
            },
            "text/plain": [
              "'\\nОбчисення суми двох чисел.\\n\\nАргументи:\\n    a : Перше число для додавання.\\n    b : Друге число для додавання.\\n\\nВивід:\\n      Сума двох чисел.\\n'"
            ]
          },
          "execution_count": 78,
          "metadata": {},
          "output_type": "execute_result"
        }
      ],
      "source": [
        "\"\"\"\n",
        "Обчисення суми двох чисел.\n",
        "\n",
        "Аргументи:\n",
        "    a : Перше число для додавання.\n",
        "    b : Друге число для додавання.\n",
        "\n",
        "Вивід:\n",
        "      Сума двох чисел.\n",
        "\"\"\""
      ]
    },
    {
      "cell_type": "markdown",
      "metadata": {
        "id": "ZvrsUQZFN5VT"
      },
      "source": [
        "5. (4б) Реалізуйте цю функцію (із додаванням docstring у визначення функції)."
      ]
    },
    {
      "cell_type": "code",
      "execution_count": null,
      "metadata": {
        "colab": {
          "base_uri": "https://localhost:8080/"
        },
        "id": "K5h3KTVuOBP3",
        "outputId": "87c38d3c-05ef-48c8-db62-96163fb767b6"
      },
      "outputs": [
        {
          "data": {
            "text/plain": [
              "10"
            ]
          },
          "execution_count": 79,
          "metadata": {},
          "output_type": "execute_result"
        }
      ],
      "source": [
        "def add_numbers(a, b):\n",
        "    return a + b\n",
        "\n",
        "add_numbers(4, 6)"
      ]
    },
    {
      "cell_type": "markdown",
      "metadata": {
        "id": "IILi2wfYOwYb"
      },
      "source": [
        "6. (6б) Визначте функцію, що віднімає одне число від іншого (підказка: це буде 2 аргументи функції). При чому, якщо не визначити, скільки саме має бути віднято від числа, за замовчуванням має відніматися 1. Викличте функцію, передаючи тільки один аргумент."
      ]
    },
    {
      "cell_type": "code",
      "execution_count": null,
      "metadata": {
        "colab": {
          "base_uri": "https://localhost:8080/"
        },
        "id": "hybHnk8ROvxQ",
        "outputId": "d4dddf47-d3b5-4645-936f-5a5cd4662474"
      },
      "outputs": [
        {
          "name": "stdout",
          "output_type": "stream",
          "text": [
            "0\n"
          ]
        }
      ],
      "source": [
        "def fun_division(*args):\n",
        "    if len(args) == 1:\n",
        "      return args[0] - 1\n",
        "    return args[0] - args[1]\n",
        "\n",
        "\n",
        "print(fun_division(2,2))"
      ]
    },
    {
      "cell_type": "markdown",
      "metadata": {
        "id": "UK6o8zcuR7cH"
      },
      "source": [
        "7. (10б) Визначте функцію, яка приймає iterable (ітерабельний обʼєкт, напр. список), що складається з 7ми рядкових значень - назв погодних умов (напр. \"sunny\") за кожен день у тижні. Повертає функція словник, де ключами є рядки з погодними умовами, а значеннями - кількість разів, скільки дана погода була протягом тижня (напр. {'sunny': 1, ...})."
      ]
    },
    {
      "cell_type": "code",
      "execution_count": null,
      "metadata": {
        "colab": {
          "base_uri": "https://localhost:8080/"
        },
        "id": "3gkR5gl0SyYO",
        "outputId": "d8a43988-9f7f-4709-c39d-8e205cb64a76"
      },
      "outputs": [
        {
          "name": "stdout",
          "output_type": "stream",
          "text": [
            "{'sunny': 4, 'cloudy': 2, 'rainy': 1}\n"
          ]
        }
      ],
      "source": [
        "def weather_week(weekly_weather):\n",
        "    result = {}\n",
        "    for weather in weekly_weather:\n",
        "      if weather in result:\n",
        "          result[weather] += 1\n",
        "      else:\n",
        "          result[weather] = 1\n",
        "\n",
        "    return result\n",
        "\n",
        "weekly_conditions = [\"sunny\", \"cloudy\", \"rainy\", \"sunny\", \"sunny\", \"cloudy\", \"sunny\"]\n",
        "print(weather_week(weekly_conditions))"
      ]
    },
    {
      "cell_type": "markdown",
      "metadata": {
        "id": "x4zhem_2Syf7"
      },
      "source": [
        "8. (3б) Викличте цю функцію тричі з різними аргументами та виведіть результати на екран."
      ]
    },
    {
      "cell_type": "code",
      "execution_count": null,
      "metadata": {
        "colab": {
          "base_uri": "https://localhost:8080/"
        },
        "id": "B0agh7urS0Fc",
        "outputId": "34aadd68-81c4-470b-8f72-aa607e0bfc72"
      },
      "outputs": [
        {
          "name": "stdout",
          "output_type": "stream",
          "text": [
            "{'sunny': 1, 'cloudy': 4, 'rainy': 2}\n",
            "{'cloudy': 4, 'rainy': 2, 'sunny': 1}\n",
            "{'rainy': 3, 'sunny': 2, 'cloudy': 2}\n"
          ]
        }
      ],
      "source": [
        "weekly_conditions = [\"sunny\", \"cloudy\", \"rainy\", \"cloudy\", \"rainy\", \"cloudy\", \"cloudy\"]\n",
        "print(weather_week(weekly_conditions))\n",
        "\n",
        "weekly_conditions = [\"cloudy\", \"cloudy\", \"rainy\", \"rainy\", \"cloudy\", \"sunny\", \"cloudy\"]\n",
        "print(weather_week(weekly_conditions))\n",
        "\n",
        "weekly_conditions = [\"rainy\", \"sunny\", \"rainy\", \"cloudy\", \"rainy\", \"cloudy\", \"sunny\"]\n",
        "print(weather_week(weekly_conditions))"
      ]
    },
    {
      "cell_type": "markdown",
      "metadata": {
        "id": "bLgviTMlUlNG"
      },
      "source": [
        "9. (15б) Напишіть програму, яка б шукала необхідне число у **впорядкованому** списку цілочислених значень, де\n",
        "\n",
        "\n",
        "1.   число має вводитись з консолі.\n",
        "2.   власне алгоритм пошуку винесений в окрему функцію, яка повертає булеве значення (знайдено число - True, не знайдено - False).\n",
        "3. в залежності від результату функції, виведіть на екран повідомлення про успішний або ж неуспішний пошук.\n",
        "\n",
        "\n",
        "**Зауваження**: використовувати оператор **in** заборонено."
      ]
    },
    {
      "cell_type": "code",
      "execution_count": null,
      "metadata": {
        "colab": {
          "base_uri": "https://localhost:8080/"
        },
        "id": "LAHz6MmdcWfP",
        "outputId": "0f011c42-dd5a-448d-891d-55e9c7f3e843"
      },
      "outputs": [
        {
          "name": "stdout",
          "output_type": "stream",
          "text": [
            "Введіть число: 6\n",
            "Такого числа нема в списку\n"
          ]
        }
      ],
      "source": [
        "def find_in_list(array_nums, target):\n",
        "    i = 0\n",
        "    while len(array_nums) != i :\n",
        "      if array_nums[i] == target:\n",
        "        return True\n",
        "      i += 1\n",
        "    return False\n",
        "\n",
        "find_list = [1, 3, 4, 5, 7, 8, 10, 11, 15, 16, 17, 19, 20]\n",
        "target_num = int(input(\"Введіть число: \"))\n",
        "result = find_in_list(find_list, target_num)\n",
        "if result == True:\n",
        "  print(\"Таке число є в списку\")\n",
        "else:\n",
        "  print(\"Такого числа нема в списку\")"
      ]
    },
    {
      "cell_type": "markdown",
      "metadata": {
        "id": "wCKOEiKhLSld"
      },
      "source": [
        "# II. Lambda functions."
      ]
    },
    {
      "cell_type": "markdown",
      "metadata": {
        "id": "c4EBfW6QcXF7"
      },
      "source": [
        "10. (6б) Визначте анонімну функцію, що виконувала б завдання з задачі №1."
      ]
    },
    {
      "cell_type": "code",
      "execution_count": null,
      "metadata": {
        "colab": {
          "base_uri": "https://localhost:8080/"
        },
        "id": "sGgO6KjuhUj5",
        "outputId": "e90f9f2f-3015-4717-e764-216308877f19"
      },
      "outputs": [
        {
          "name": "stdout",
          "output_type": "stream",
          "text": [
            "3\n"
          ]
        }
      ],
      "source": [
        "result_sum = lambda first_arg, second_arg: first_arg + second_arg\n",
        "print(result_sum(1,2))"
      ]
    },
    {
      "cell_type": "markdown",
      "metadata": {
        "id": "fWa0efmRhepO"
      },
      "source": [
        "11. (5б) В яких випадках варто використовувати лямбда-функції?"
      ]
    },
    {
      "cell_type": "markdown",
      "metadata": {
        "id": "R68BViaPhad_"
      },
      "source": [
        "її слід використовувати для більшої читабільності та для простих операцій"
      ]
    },
    {
      "cell_type": "markdown",
      "metadata": {
        "id": "0CL6ikIkhU7j"
      },
      "source": [
        "12. (9б) Визначте список з рядками. Після цього визначте анонімну функцію для отримання першого символу у верхньому регістрі для кожного рядка списку.\n",
        "*Підказка*: використовуйте анонімну функцію в якості агрумента до вбудованої ф-ції, яка створена для застосування функцій над iterable обʼєктами.\n",
        "Результат виведіть на екран у вигляді кортежу."
      ]
    },
    {
      "cell_type": "code",
      "execution_count": null,
      "metadata": {
        "colab": {
          "base_uri": "https://localhost:8080/"
        },
        "id": "I1Lw2SSNhhJw",
        "outputId": "af9af749-9a4f-4ba4-9cf8-9c15743dd3fe"
      },
      "outputs": [
        {
          "name": "stdout",
          "output_type": "stream",
          "text": [
            "['E', 'V', 'H', 'N']\n"
          ]
        }
      ],
      "source": [
        "def upper_first_word(*args):\n",
        "    words = []\n",
        "    for word in args:\n",
        "      words.append(word[0].upper())\n",
        "    return words\n",
        "\n",
        "\n",
        "words = ['ewew', 'vava', 'hello', 'no']\n",
        "word = lambda x : upper_first_word(*x)\n",
        "\n",
        "print(word(words))"
      ]
    },
    {
      "cell_type": "markdown",
      "metadata": {
        "id": "rgGmGt67m5yi"
      },
      "source": [
        "# III. Decorators."
      ]
    },
    {
      "cell_type": "markdown",
      "metadata": {
        "id": "DZm1W0Qqncu8"
      },
      "source": [
        "13. (15б) Визначте декоратор, який би виводив у консоль повідомлення про початок роботи і назву функції, а після відпрацювання функції - повідомлення про закінчення роботи і назву функції, що задекорована."
      ]
    },
    {
      "cell_type": "code",
      "execution_count": null,
      "metadata": {
        "id": "5s3X3F6soer0"
      },
      "outputs": [],
      "source": [
        "def log_function(func):\n",
        "    def wrapper(*args, **kwargs):\n",
        "        print(f\"Початок {func.__name__}\")\n",
        "        result = func(*args, **kwargs)\n",
        "        print(f\"Закінчення {func.__name__}\")\n",
        "        return result\n",
        "    return wrapper\n"
      ]
    },
    {
      "cell_type": "markdown",
      "metadata": {
        "id": "AlGt40oVofHB"
      },
      "source": [
        "14. (7б) Задекоруйте функції з завдання 3, 5 та 6 декоратором із завдання 13. *Примітка*: продемонструйте 2 способи, як можна задекорувати функції (**УВАГА**: не декоруйте функції двічі!)."
      ]
    },
    {
      "cell_type": "code",
      "execution_count": null,
      "metadata": {
        "id": "hkxhoRVqo1AW"
      },
      "outputs": [],
      "source": [
        "@log_function\n",
        "def division_fun(first_arg, second_arg):\n",
        "    if second_arg == 0:\n",
        "      return None\n",
        "    return first_arg / second_arg\n",
        "\n",
        "\n",
        "@log_function\n",
        "def fun_division(*args):\n",
        "    if len(args) == 1:\n",
        "      return args[0] - 1\n",
        "    return args[0] - args[1]\n",
        "\n",
        "\n",
        "@log_function\n",
        "def add_numbers(a, b):\n",
        "    return a + b"
      ]
    },
    {
      "cell_type": "markdown",
      "metadata": {
        "id": "6QkS0Kxzo4UR"
      },
      "source": [
        "15. (2б) Викличте одну з задекорованих функцій і виведіть її результат на екран."
      ]
    },
    {
      "cell_type": "code",
      "execution_count": null,
      "metadata": {
        "colab": {
          "base_uri": "https://localhost:8080/"
        },
        "id": "BCCCPai6o-y5",
        "outputId": "d36ca037-9394-4644-9c2c-9105c8cd14a3"
      },
      "outputs": [
        {
          "name": "stdout",
          "output_type": "stream",
          "text": [
            "Початок division_fun\n",
            "Закінчення division_fun\n",
            "2.0 \n",
            "\n",
            "Початок fun_division\n",
            "Закінчення fun_division\n",
            "4 \n",
            "\n",
            "Початок add_numbers\n",
            "Закінчення add_numbers\n",
            "12 \n",
            "\n"
          ]
        }
      ],
      "source": [
        "print(division_fun(6,3),'\\n')\n",
        "\n",
        "print(fun_division(5),'\\n')\n",
        "\n",
        "print(add_numbers(5, 7),'\\n')"
      ]
    },
    {
      "cell_type": "markdown",
      "metadata": {
        "id": "CSN0Q5pMQVNQ"
      },
      "source": [
        "# Вітаю! Ви велика(ий) молодець, що впоралась(вся). Похваліть себе та побалуйте чимось приємним. Я Вами пишаюся."
      ]
    }
  ],
  "metadata": {
    "colab": {
      "include_colab_link": true,
      "provenance": []
    },
    "kernelspec": {
      "display_name": "Python 3",
      "name": "python3"
    },
    "language_info": {
      "name": "python"
    }
  },
  "nbformat": 4,
  "nbformat_minor": 0
}

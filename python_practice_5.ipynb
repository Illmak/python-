{
  "cells": [
    {
      "cell_type": "markdown",
      "metadata": {
        "colab_type": "text",
        "id": "view-in-github"
      },
      "source": [
        "<a href=\"https://colab.research.google.com/github/vavaqwe/Python_Practice/blob/main/python_practice_5.ipynb\" target=\"_parent\"><img src=\"https://colab.research.google.com/assets/colab-badge.svg\" alt=\"Open In Colab\"/></a>"
      ]
    },
    {
      "cell_type": "markdown",
      "metadata": {
        "id": "awfU0tMnOlHH"
      },
      "source": [
        "# I. OOP"
      ]
    },
    {
      "cell_type": "markdown",
      "metadata": {
        "id": "T6r88C4sOwbI"
      },
      "source": [
        "1. (7б). Створіть клас Animal, додайте docstring, три атрибути, один з яких має значення за замовчуванням та два методи на свій розсуд."
      ]
    },
    {
      "cell_type": "code",
      "execution_count": 60,
      "metadata": {
        "id": "fWXuCGV8Oqrn"
      },
      "outputs": [],
      "source": [
        "class Animal:\n",
        "  def __init__(self, kind, name, age=0):\n",
        "    \"\"\"docstring\"\"\"\n",
        "    self.kind = kind\n",
        "    self.age = age\n",
        "    self.name = name\n",
        "\n",
        "  def get_name(self):\n",
        "    print(self.name)\n",
        "\n",
        "  def set_age(self, age):\n",
        "    self.age = age\n",
        "    print(f'Вік змінено на {self.age}')"
      ]
    },
    {
      "cell_type": "markdown",
      "metadata": {
        "id": "CTu5Dt0_UKul"
      },
      "source": [
        "1.1. (5б). Створіть два обʼєкти цього класу. На одному обʼєкті отримайте значення його атрибуту, а на іншому викличте один з його методів."
      ]
    },
    {
      "cell_type": "code",
      "execution_count": 61,
      "metadata": {
        "colab": {
          "base_uri": "https://localhost:8080/"
        },
        "id": "nLQqAIlKUQRP",
        "outputId": "6c32ffc9-8578-4fc6-eb95-65370748454b"
      },
      "outputs": [
        {
          "name": "stdout",
          "output_type": "stream",
          "text": [
            "dog\n",
            "Bobik\n",
            "Вік змінено на 4\n"
          ]
        }
      ],
      "source": [
        "dog_bobik = Animal('dog', 'Bobik', 3)\n",
        "cat_luffi = Animal('cat', 'Luffi')\n",
        "\n",
        "print(dog_bobik.kind)\n",
        "dog_bobik.get_name()\n",
        "cat_luffi.set_age(4)"
      ]
    },
    {
      "cell_type": "markdown",
      "metadata": {
        "id": "3KKpQYcWRNgj"
      },
      "source": [
        "2. (9б). Створіть клас, де атрибути мають різні рівні доступу. Спробуйте отримати їхні значення та опишіть результати."
      ]
    },
    {
      "cell_type": "code",
      "execution_count": 62,
      "metadata": {
        "colab": {
          "base_uri": "https://localhost:8080/"
        },
        "id": "PlMQmzciRM_D",
        "outputId": "eb385ddc-6ed6-449c-f22f-ccbeee3bcb62"
      },
      "outputs": [
        {
          "name": "stdout",
          "output_type": "stream",
          "text": [
            "kolia\n"
          ]
        },
        {
          "data": {
            "text/plain": [
              "3"
            ]
          },
          "execution_count": 62,
          "metadata": {},
          "output_type": "execute_result"
        }
      ],
      "source": [
        "class Cat:\n",
        "    def __init__(self, name, age):\n",
        "        self.__name = name\n",
        "        self._age = age\n",
        "\n",
        "    def get_name(self):\n",
        "      print(self.__name)\n",
        "\n",
        "lyffi = Cat('kolia', 3)\n",
        "lyffi.get_name()\n",
        "lyffi._age"
      ]
    },
    {
      "cell_type": "markdown",
      "metadata": {
        "id": "iaoOLp4RRZyc"
      },
      "source": [
        "3. (8б). Як ви розумієте термін self? Для чого використовується метод __init __?"
      ]
    },
    {
      "cell_type": "markdown",
      "metadata": {
        "id": "-yuvBRjFRlz5"
      },
      "source": [
        "self зберігає в собі змінні, які задаються в init, а він вже використовується для задання властивостей."
      ]
    },
    {
      "cell_type": "markdown",
      "metadata": {
        "id": "nVectYeATZAi"
      },
      "source": [
        "4. (8б). Створіть клас Фігура без атрибутів, з методом get_area для отримання площі фігури, що повертає 0 та __add __, який приймає self та other в якості аргументів, а повертає суму площин фігур self та other."
      ]
    },
    {
      "cell_type": "code",
      "execution_count": 63,
      "metadata": {
        "id": "EYvcpzHbRZLz"
      },
      "outputs": [],
      "source": [
        "class Figure:\n",
        "    def get_area(self):\n",
        "        return 0\n",
        "\n",
        "    def __add__(self, other):\n",
        "        return self.get_area() + other.get_area()"
      ]
    },
    {
      "cell_type": "markdown",
      "metadata": {
        "id": "PheOkqlCg9SD"
      },
      "source": [
        "5. (11б). Створіть 2 дочірніх класи від Фігури: Трикутник та Коло, які мають атрибути, необхідні для розрахунку площин. Визначте метод get_area в кожному з них так, щоби вони розраховували площу в залежності від формули для кожного типу фігури. Створіть обʼєкт класу Трикутник та обʼєкт класу Коло. Виконайте операцію суми за допомогою оператора + між ними."
      ]
    },
    {
      "cell_type": "code",
      "execution_count": 64,
      "metadata": {
        "colab": {
          "base_uri": "https://localhost:8080/"
        },
        "id": "7Jo8-rqlhNSw",
        "outputId": "31c41e5d-e771-4603-b9ef-b2b8e220d259"
      },
      "outputs": [
        {
          "name": "stdout",
          "output_type": "stream",
          "text": [
            "103.53981633974483\n"
          ]
        }
      ],
      "source": [
        "import math\n",
        "\n",
        "class Circle(Figure):\n",
        "    def __init__(self, r):\n",
        "      self.r = r\n",
        "\n",
        "    def get_area(self):\n",
        "      return math.pi * pow(self.r, 2)\n",
        "\n",
        "class Triangle(Figure):\n",
        "    def __init__(self, a, h):\n",
        "        self.a = a\n",
        "        self.h = h\n",
        "\n",
        "    def get_area(self):\n",
        "        return 0.5 * self.a * self.h\n",
        "\n",
        "my_circle = Circle(5)\n",
        "my_triangle = Triangle(5,10)\n",
        "sum_area = my_circle + my_triangle\n",
        "print(sum_area)"
      ]
    },
    {
      "cell_type": "markdown",
      "metadata": {
        "id": "WxW51aGIhN2q"
      },
      "source": [
        "6. (7б). Продемонструйте різницю між isinstance та issubclass."
      ]
    },
    {
      "cell_type": "code",
      "execution_count": 65,
      "metadata": {
        "colab": {
          "base_uri": "https://localhost:8080/"
        },
        "id": "E-QybeYShdAu",
        "outputId": "f0433863-e9b6-4d86-c711-3dc1aa86e48e"
      },
      "outputs": [
        {
          "name": "stdout",
          "output_type": "stream",
          "text": [
            "True\n",
            "False\n"
          ]
        }
      ],
      "source": [
        "print(issubclass(Circle, Figure))\n",
        "print(isinstance('rara', int))"
      ]
    },
    {
      "cell_type": "markdown",
      "metadata": {
        "id": "Mrup7UL3hfC3"
      },
      "source": [
        "7. (16б). Створіть клас BankAccount з приватними атрибутами balance та account_number.\n",
        "Реалізуйте методи поповнення та зняття коштів, забезпечивши належну інкапсуляцію. Підказка: використовуйте декоратори getter та setter."
      ]
    },
    {
      "cell_type": "code",
      "execution_count": 66,
      "metadata": {
        "colab": {
          "base_uri": "https://localhost:8080/"
        },
        "id": "Vi8gw9G6i37Y",
        "outputId": "720c5037-a0e9-4f9c-e60a-eafda95115f1"
      },
      "outputs": [
        {
          "name": "stdout",
          "output_type": "stream",
          "text": [
            "400\n",
            "200\n",
            "300\n"
          ]
        }
      ],
      "source": [
        "class BankAccount:\n",
        "  def __init__(self, account_number, balance):\n",
        "    self._account_number = account_number\n",
        "    self.__balance = balance\n",
        "\n",
        "  def get_balance(self):\n",
        "    return self.__balance\n",
        "\n",
        "  def withdraw(self, money):\n",
        "    if money > 0:\n",
        "      self.__balance -= money\n",
        "      return self.__balance\n",
        "    else:\n",
        "      print(\"Error\")\n",
        "      return None\n",
        "\n",
        "  def deposit(self, money):\n",
        "    if 0 < money <= self.__balance:\n",
        "      self.__balance += money\n",
        "      return self.__balance\n",
        "    else:\n",
        "      print(\"Error\")\n",
        "      return None\n",
        "\n",
        "my_accaunt = BankAccount(1, 400)\n",
        "\n",
        "print(my_accaunt.get_balance())\n",
        "print(my_accaunt.withdraw(200))\n",
        "print(my_accaunt.deposit(100))"
      ]
    },
    {
      "cell_type": "markdown",
      "metadata": {
        "id": "q1mgZYuFjB_q"
      },
      "source": [
        "8. (16б). Створіть клас Library, який містить список об'єктів типу Book.\n",
        "Реалізуйте методи для додавання книги, видалення книги та відображення списку книг."
      ]
    },
    {
      "cell_type": "code",
      "execution_count": 67,
      "metadata": {
        "colab": {
          "base_uri": "https://localhost:8080/"
        },
        "id": "z1W8DINmjQQj",
        "outputId": "14c2424a-5b7c-4549-a760-a758514ff8e2"
      },
      "outputs": [
        {
          "name": "stdout",
          "output_type": "stream",
          "text": [
            "add to the library\n",
            "add to the library\n",
            "add to the library\n",
            "books:\n",
            "   The Great Gatsby by F. Scott Fitzgerald\n",
            "   To Kill a Mockingbird by Harper Lee\n",
            "   1984 by George Orwell\n",
            "remove The Great Gatsby\n",
            "books:\n",
            "   To Kill a Mockingbird by Harper Lee\n",
            "   1984 by George Orwell\n"
          ]
        }
      ],
      "source": [
        "class Book:\n",
        "    def __init__(self, title, author):\n",
        "        self.title = title\n",
        "        self.author = author\n",
        "\n",
        "class Library:\n",
        "    def __init__(self):\n",
        "        self.books = []\n",
        "\n",
        "    def add_book(self, book):\n",
        "        self.books.append(book)\n",
        "        print(\"add to the library\")\n",
        "\n",
        "    def remove_book(self, title):\n",
        "        for book in self.books:\n",
        "            if book.title == title:\n",
        "                self.books.remove(book)\n",
        "                print(f\"remove {book.title}\")\n",
        "                return\n",
        "        print(f\"Book '{title}' not found\")\n",
        "\n",
        "    def display_books(self):\n",
        "        if not self.books:\n",
        "            print(\"empty\")\n",
        "        else:\n",
        "            print(\"books:\")\n",
        "            for book in self.books:\n",
        "                print(f\"   {book.title} by {book.author}\")\n",
        "\n",
        "book1 = Book(\"The Great Gatsby\", \"F. Scott Fitzgerald\")\n",
        "book2 = Book(\"To Kill a Mockingbird\", \"Harper Lee\")\n",
        "book3 = Book(\"1984\", \"George Orwell\")\n",
        "\n",
        "library = Library()\n",
        "library.add_book(book1)\n",
        "library.add_book(book2)\n",
        "library.add_book(book3)\n",
        "library.display_books()\n",
        "library.remove_book(\"The Great Gatsby\")\n",
        "library.display_books()"
      ]
    },
    {
      "cell_type": "markdown",
      "metadata": {
        "id": "cCzctafPjwiZ"
      },
      "source": [
        "9. (13б). Створіть клас Person з атрибутами name та age.\n",
        "Створіть ще один клас Employee з такими атрибутами, як department та salary.\n",
        "Створіть клас Manager, який успадковує обидва класи Person та Employee. Продемонструйте використання множинної спадковості, створивши обʼєкт класу Manager та отримавши mro для цього класу."
      ]
    },
    {
      "cell_type": "code",
      "execution_count": 68,
      "metadata": {
        "colab": {
          "base_uri": "https://localhost:8080/"
        },
        "id": "tZQ8-tfPk1k5",
        "outputId": "7e733d69-902c-47c4-8aa5-74285236ecb5"
      },
      "outputs": [
        {
          "data": {
            "text/plain": [
              "(__main__.Manager, __main__.Person, __main__.Employee, object)"
            ]
          },
          "execution_count": 68,
          "metadata": {},
          "output_type": "execute_result"
        }
      ],
      "source": [
        "class Person:\n",
        "  def __init__(self, name, age):\n",
        "    self.name = name\n",
        "    self.age = age\n",
        "\n",
        "class Employee:\n",
        "  def __init__(self, department, salary):\n",
        "    self.department = department\n",
        "    self.salary = salary\n",
        "\n",
        "class Manager(Person, Employee):\n",
        "  def __init__(self, name, age, department, salary):\n",
        "    super().__init__(name, age)\n",
        "    super().__init__(department, salary)\n",
        "\n",
        "my_value = Manager('Yaroslaw', 19, 'Google', 1000000)\n",
        "Manager.__mro__"
      ]
    },
    {
      "cell_type": "markdown",
      "metadata": {
        "id": "dzH9DdFTOxCC"
      },
      "source": [
        "# Вітаю! Ви велика(ий) молодець, що впоралась(вся). Похваліть себе та побалуйте чимось приємним. Я Вами пишаюся."
      ]
    }
  ],
  "metadata": {
    "colab": {
      "include_colab_link": true,
      "provenance": []
    },
    "kernelspec": {
      "display_name": "Python 3",
      "name": "python3"
    },
    "language_info": {
      "name": "python"
    }
  },
  "nbformat": 4,
  "nbformat_minor": 0
}
